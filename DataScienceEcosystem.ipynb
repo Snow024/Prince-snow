{
 "cells": [
  {
   "cell_type": "markdown",
   "id": "73981b1c-e1b7-4372-9e64-d278019d9b9a",
   "metadata": {},
   "source": [
    "# Data Science Tools And Ecosystem"
   ]
  },
  {
   "cell_type": "markdown",
   "id": "237fcaeb-0f47-4f04-b922-4730c2fa8b7c",
   "metadata": {},
   "source": [
    "##### Introduction\n",
    "\n",
    "Data Science Tools and Ecosystem encompass a wide range of software, libraries, and platforms designed to facilitate data analysis, machine learning, and statistical modeling, enabling data scientists to efficiently process, analyze, and derive insights from complex data sets.\n"
   ]
  },
  {
   "cell_type": "markdown",
   "id": "7e35079d-25d9-40c0-adb5-1244304226bc",
   "metadata": {},
   "source": [
    "__Objectives:__\n",
    "+ List of data science languages.\n",
    "+ list of common data science libraries.\n",
    "+ Evaluating simple arithmetic expression."
   ]
  },
  {
   "cell_type": "markdown",
   "id": "3ba80f5a-2dad-4eeb-9289-0bbfe16779bf",
   "metadata": {},
   "source": [
    "##### List Of Data Science Language.\n",
    "Some of the popular languages that Data Scientists use are:\n",
    "1. Python\n",
    "2. SQL\n",
    "3. R\n",
    "4. Julia\n"
   ]
  },
  {
   "cell_type": "markdown",
   "id": "dbbc0fb9-0696-4391-a81e-1312e42472c3",
   "metadata": {},
   "source": [
    "##### List of Data Science Libraries.\n",
    "Some of the commonly used libraries used by data science include:\n",
    "1. Pandas for data manipulation and analysis\n",
    "2. NumPy for numerical computations\n",
    "3. Matplotlib and Seaborn for data visualization\n",
    "4. Scikit-learn for machine learning\n",
    "5. TensorFlow and PyTorch for deep learning"
   ]
  },
  {
   "cell_type": "markdown",
   "id": "c75cfc13-b805-41c8-9ef2-b62ec4efdcd7",
   "metadata": {},
   "source": [
    "| Data science tools|\n",
    "|-------------------|\n",
    "| Jupyter Notebook  |\n",
    "| RStudio           |\n",
    "| Apache Zeppelin   |\n"
   ]
  },
  {
   "cell_type": "markdown",
   "id": "f26bc471-d34c-424a-9335-cb1912bc5c79",
   "metadata": {},
   "source": [
    "### How To Evaluate Arithmetic Expression Using Python\n",
    "---\n",
    "You can perform arithmetic expressions in Python using basic operators like + for addition, - for subtraction, * for multiplication, and / for division.\n",
    "Below are a few examples of evaluating arithmetic expressions in Python.\n",
    "\n"
   ]
  },
  {
   "cell_type": "code",
   "execution_count": 4,
   "id": "ab0555e3-0ef1-49b4-b20f-68b524f42268",
   "metadata": {},
   "outputs": [
    {
     "data": {
      "text/plain": [
       "17"
      ]
     },
     "execution_count": 4,
     "metadata": {},
     "output_type": "execute_result"
    }
   ],
   "source": [
    "#Below is an expression of multiplication and addition of integer\n",
    "(3*4)+5"
   ]
  },
  {
   "cell_type": "code",
   "execution_count": 5,
   "id": "ff2766d0-b0fb-4b78-950a-276a08a9b826",
   "metadata": {},
   "outputs": [
    {
     "data": {
      "text/plain": [
       "3.3333333333333335"
      ]
     },
     "execution_count": 5,
     "metadata": {},
     "output_type": "execute_result"
    }
   ],
   "source": [
    "# Convert 200 minutes into hours\n",
    "minutes = 200\n",
    "hours = minutes / 60\n",
    "hours\n"
   ]
  },
  {
   "cell_type": "markdown",
   "id": "9cc35c0d-a9ad-4e68-8373-faa56fe04c93",
   "metadata": {},
   "source": [
    "## Author\n",
    "___Itama Prince Erumusele___"
   ]
  },
  {
   "cell_type": "code",
   "execution_count": null,
   "id": "340ba2a9-715d-4a91-8118-879cde6239cb",
   "metadata": {},
   "outputs": [],
   "source": []
  }
 ],
 "metadata": {
  "kernelspec": {
   "display_name": "Python 3 (ipykernel)",
   "language": "python",
   "name": "python3"
  },
  "language_info": {
   "codemirror_mode": {
    "name": "ipython",
    "version": 3
   },
   "file_extension": ".py",
   "mimetype": "text/x-python",
   "name": "python",
   "nbconvert_exporter": "python",
   "pygments_lexer": "ipython3",
   "version": "3.11.7"
  }
 },
 "nbformat": 4,
 "nbformat_minor": 5
}
